{
  "cells": [
    {
      "cell_type": "code",
      "execution_count": 2,
      "metadata": {
        "id": "Gj2IK3SRHEiz"
      },
      "outputs": [
        {
          "ename": "ModuleNotFoundError",
          "evalue": "No module named 'scipy'",
          "output_type": "error",
          "traceback": [
            "\u001b[1;31m---------------------------------------------------------------------------\u001b[0m",
            "\u001b[1;31mModuleNotFoundError\u001b[0m                       Traceback (most recent call last)",
            "Cell \u001b[1;32mIn[2], line 3\u001b[0m\n\u001b[0;32m      1\u001b[0m \u001b[38;5;28;01mimport\u001b[39;00m \u001b[38;5;21;01mnumpy\u001b[39;00m \u001b[38;5;28;01mas\u001b[39;00m \u001b[38;5;21;01mnp\u001b[39;00m\n\u001b[0;32m      2\u001b[0m \u001b[38;5;28;01mimport\u001b[39;00m \u001b[38;5;21;01mmatplotlib\u001b[39;00m\u001b[38;5;21;01m.\u001b[39;00m\u001b[38;5;21;01mpyplot\u001b[39;00m \u001b[38;5;28;01mas\u001b[39;00m \u001b[38;5;21;01mplt\u001b[39;00m\n\u001b[1;32m----> 3\u001b[0m \u001b[38;5;28;01mimport\u001b[39;00m \u001b[38;5;21;01mscipy\u001b[39;00m\u001b[38;5;21;01m.\u001b[39;00m\u001b[38;5;21;01mio\u001b[39;00m \u001b[38;5;28;01mas\u001b[39;00m \u001b[38;5;21;01msio\u001b[39;00m\n\u001b[0;32m      4\u001b[0m \u001b[38;5;28;01mimport\u001b[39;00m \u001b[38;5;21;01mscipy\u001b[39;00m\u001b[38;5;21;01m.\u001b[39;00m\u001b[38;5;21;01mstats\u001b[39;00m \u001b[38;5;28;01mas\u001b[39;00m \u001b[38;5;21;01msis\u001b[39;00m\n\u001b[0;32m      5\u001b[0m \u001b[38;5;28;01mimport\u001b[39;00m \u001b[38;5;21;01mstatsmodels\u001b[39;00m\u001b[38;5;21;01m.\u001b[39;00m\u001b[38;5;21;01mtsa\u001b[39;00m\u001b[38;5;21;01m.\u001b[39;00m\u001b[38;5;21;01mstattools\u001b[39;00m \u001b[38;5;28;01mas\u001b[39;00m \u001b[38;5;21;01msta\u001b[39;00m\n",
            "\u001b[1;31mModuleNotFoundError\u001b[0m: No module named 'scipy'"
          ]
        }
      ],
      "source": [
        "import numpy as np\n",
        "import matplotlib.pyplot as plt\n",
        "import scipy.io as sio\n",
        "import scipy.stats as sis\n",
        "import statsmodels.tsa.stattools as sta\n",
        "import pandas as pd\n",
        "import os"
      ]
    },
    {
      "cell_type": "markdown",
      "metadata": {
        "id": "rrTHk6a5Qmh7"
      },
      "source": [
        "# **Datos señal ECG**"
      ]
    },
    {
      "cell_type": "code",
      "execution_count": null,
      "metadata": {
        "colab": {
          "base_uri": "https://localhost:8080/"
        },
        "id": "_2W9oaC7HssL",
        "outputId": "f40bbc91-4e90-476b-aafe-a612134be54f"
      },
      "outputs": [
        {
          "name": "stdout",
          "output_type": "stream",
          "text": [
            "{'__header__': b'MATLAB 5.0 MAT-file, Platform: GLNXA64, Created on: Mon Apr 20 15:20:29 2015', '__version__': '1.0', '__globals__': [], 'Fs': array([[1024]], dtype=uint16), 'ECG_asRecording': array([[3904.31689453, 3939.203125  , 3976.00683594, ..., 4366.41064453,\n",
            "        4365.31103516, 4370.91796875]]), 'ECG_filtered': array([[ 8.87103896e-03,  5.62737497e+01,  8.57077127e+01, ...,\n",
            "        -1.20952610e+02, -1.31734356e+02, -1.32898021e+02]]), 'EMG_filtered1': array([[ 17.65905117,  19.41391578,  18.89666666, ..., 242.49414224,\n",
            "        220.4135886 , 151.5810508 ]]), 'EMG_filtered2': array([[  21.1780547 ,  -79.82418538, -133.65960989, ..., -384.58994036,\n",
            "        -539.9349533 , -772.65519631]]), 'EMG_asRecording1': array([[ 908.07531738,  903.17706299,  896.62982178, ..., 1433.91882324,\n",
            "        1416.109375  , 1352.75012207]]), 'EMG_asRecording2': array([[-3109.97558594, -3231.01391602, -3302.34960938, ...,\n",
            "        -3791.24267578, -3924.6550293 , -4109.94433594]])}\n"
          ]
        }
      ],
      "source": [
        "ruta='/content/sample_data/signals.mat'\n",
        "data=sio.loadmat(ruta)\n",
        "print(data)\n",
        "ECG=data['ECG_asRecording']\n",
        "ECG_f=data['ECG_filtered']"
      ]
    },
    {
      "cell_type": "markdown",
      "metadata": {
        "id": "gDE9V_hNQy73"
      },
      "source": [
        "# **Funcion RMS**"
      ]
    },
    {
      "cell_type": "code",
      "execution_count": null,
      "metadata": {
        "id": "45OkGJcOMEda"
      },
      "outputs": [],
      "source": [
        "from math import sqrt\n",
        "\n",
        "def dato_RMS(signal):\n",
        "  suma_RMS=0\n",
        "  for i in range(len(signal)):\n",
        "    suma_RMS=suma_RMS+(signal[i])**2\n",
        "  RMS=sqrt(1/len(signal)*suma_RMS)\n",
        "  return RMS\n"
      ]
    },
    {
      "cell_type": "markdown",
      "metadata": {
        "id": "kHBTdKGPQZiA"
      },
      "source": [
        "# **Vector Tiempo**"
      ]
    },
    {
      "cell_type": "code",
      "execution_count": null,
      "metadata": {
        "colab": {
          "base_uri": "https://localhost:8080/"
        },
        "id": "HBan2NqXKRis",
        "outputId": "0df129e1-208d-4fda-84cd-15bb7494ad4a"
      },
      "outputs": [
        {
          "name": "stdout",
          "output_type": "stream",
          "text": [
            "[0.00000000e+00 9.76562500e-04 1.95312500e-03 ... 2.99970703e+01\n",
            " 2.99980469e+01 2.99990234e+01]\n",
            "30720\n",
            "[0.00000000e+00 9.76562500e-04 1.95312500e-03 ... 2.99970703e+01\n",
            " 2.99980469e+01 2.99990234e+01]\n",
            "30720\n"
          ]
        }
      ],
      "source": [
        "#Vector tiempo señal sin filtrar\n",
        "T=(1/1024);\n",
        "ts= T*len(ECG[0]);\n",
        "t=np.arange(0,ts,T)\n",
        "print(t)\n",
        "print(len(ECG[0]))\n",
        "#Vector tiempo señal filtrada\n",
        "ts_f= T*len(ECG_f[0]);\n",
        "t_f=np.arange(0,ts_f,T)\n",
        "print(t_f)\n",
        "print(len(ECG_f[0]))"
      ]
    },
    {
      "cell_type": "markdown",
      "metadata": {
        "id": "fZe3yVzWTHKJ"
      },
      "source": [
        "# **Graficas**"
      ]
    },
    {
      "cell_type": "code",
      "execution_count": null,
      "metadata": {
        "colab": {
          "base_uri": "https://localhost:8080/",
          "height": 469
        },
        "id": "Ko0Eq-BRQYJw",
        "outputId": "ef574d3d-3809-4c8d-ce11-207d8d5735a1"
      },
      "outputs": [
        {
          "ename": "NameError",
          "evalue": "name 'ECG' is not defined",
          "output_type": "error",
          "traceback": [
            "\u001b[1;31m---------------------------------------------------------------------------\u001b[0m",
            "\u001b[1;31mNameError\u001b[0m                                 Traceback (most recent call last)",
            "Cell \u001b[1;32mIn[1], line 1\u001b[0m\n\u001b[1;32m----> 1\u001b[0m signal_ECG\u001b[38;5;241m=\u001b[39m(\u001b[43mECG\u001b[49m[\u001b[38;5;241m0\u001b[39m])\n\u001b[0;32m      2\u001b[0m signal_ECG_f\u001b[38;5;241m=\u001b[39m(ECG_f[\u001b[38;5;241m0\u001b[39m])\n\u001b[0;32m      3\u001b[0m plt\u001b[38;5;241m.\u001b[39msubplot(\u001b[38;5;241m2\u001b[39m,\u001b[38;5;241m1\u001b[39m,\u001b[38;5;241m1\u001b[39m)\n",
            "\u001b[1;31mNameError\u001b[0m: name 'ECG' is not defined"
          ]
        }
      ],
      "source": [
        "signal_ECG=(ECG[0])\n",
        "signal_ECG_f=(ECG_f[0])\n",
        "plt.subplot(2,1,1)\n",
        "plt.subplots_adjust(hspace=0.5)\n",
        "plt.plot(t,signal_ECG,label='Original')\n",
        "plt.title('Original')\n",
        "plt.subplot(2,1,2)\n",
        "plt.plot(t_f,signal_ECG_f,label='Filtrada')\n",
        "plt.title('Filtrada')"
      ]
    }
  ],
  "metadata": {
    "colab": {
      "provenance": []
    },
    "kernelspec": {
      "display_name": "Python 3",
      "name": "python3"
    },
    "language_info": {
      "codemirror_mode": {
        "name": "ipython",
        "version": 3
      },
      "file_extension": ".py",
      "mimetype": "text/x-python",
      "name": "python",
      "nbconvert_exporter": "python",
      "pygments_lexer": "ipython3",
      "version": "3.11.9"
    }
  },
  "nbformat": 4,
  "nbformat_minor": 0
}

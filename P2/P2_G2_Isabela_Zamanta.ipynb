{
 "cells": [
  {
   "cell_type": "markdown",
   "metadata": {},
   "source": []
  },
  {
   "cell_type": "code",
   "execution_count": 4,
   "metadata": {},
   "outputs": [],
   "source": [
    "import numpy as np\n",
    "#import pandas as pd\n",
    "import matplotlib as plt"
   ]
  },
  {
   "cell_type": "code",
   "execution_count": null,
   "metadata": {},
   "outputs": [],
   "source": [
    "n = [-2, -1, 0, 1, 2, 3]\n",
    "x = [5, 6, 7, 5, 4, 3]"
   ]
  },
  {
   "cell_type": "code",
   "execution_count": 14,
   "metadata": {},
   "outputs": [],
   "source": [
    "#Impulso unitario\n",
    "def impseq(n0, n1, n2):\n",
    "# Genera x(n) = delta(n-n0); n1 <= n <= n2\n",
    "# ----------------------------------------------\n",
    " n = np.arange(n1,n2+1) # Se crea el vector de muestras\n",
    " x = (n-n0) == 0\n",
    " print(str(x))\n",
    " return [x,n]\n"
   ]
  },
  {
   "cell_type": "code",
   "execution_count": 15,
   "metadata": {},
   "outputs": [
    {
     "name": "stdout",
     "output_type": "stream",
     "text": [
      "[False False  True False False False]\n"
     ]
    },
    {
     "data": {
      "text/plain": [
       "[array([False, False,  True, False, False, False]),\n",
       " array([-2, -1,  0,  1,  2,  3])]"
      ]
     },
     "execution_count": 15,
     "metadata": {},
     "output_type": "execute_result"
    }
   ],
   "source": [
    "impseq(0,-2,3)"
   ]
  },
  {
   "cell_type": "code",
   "execution_count": 16,
   "metadata": {},
   "outputs": [],
   "source": [
    "#Escalon unitario\n",
    "def escseq(n0, n1, n2):\n",
    "# Genera x(n) = delta(n-n0); n1 <= n <= n2\n",
    "# ----------------------------------------------\n",
    " n = np.arange(n1,n2+1) # Se crea el vector de muestras\n",
    " x = (n-n0) >= 0\n",
    " return [x,n]\n"
   ]
  },
  {
   "cell_type": "code",
   "execution_count": 17,
   "metadata": {},
   "outputs": [
    {
     "data": {
      "text/plain": [
       "[array([False, False,  True,  True,  True,  True]),\n",
       " array([-2, -1,  0,  1,  2,  3])]"
      ]
     },
     "execution_count": 17,
     "metadata": {},
     "output_type": "execute_result"
    }
   ],
   "source": [
    "escseq(0,-2,3)"
   ]
  }
 ],
 "metadata": {
  "kernelspec": {
   "display_name": "Python 3",
   "language": "python",
   "name": "python3"
  },
  "language_info": {
   "codemirror_mode": {
    "name": "ipython",
    "version": 3
   },
   "file_extension": ".py",
   "mimetype": "text/x-python",
   "name": "python",
   "nbconvert_exporter": "python",
   "pygments_lexer": "ipython3",
   "version": "3.11.9"
  }
 },
 "nbformat": 4,
 "nbformat_minor": 2
}

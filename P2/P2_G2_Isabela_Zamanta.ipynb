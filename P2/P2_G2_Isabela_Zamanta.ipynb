{
 "cells": [
  {
   "cell_type": "markdown",
   "metadata": {},
   "source": []
  },
  {
   "cell_type": "code",
   "execution_count": null,
   "metadata": {},
   "outputs": [],
   "source": [
    "def impseq(n0, n1, n2):\n",
    "# Genera x(n) = delta(n-n0); n1 <= n <= n2\n",
    "# ----------------------------------------------\n",
    " n = np.arange(n1,n2+1) # Se crea el vector de muestras\n",
    " x = (n-n0) == 0\n",
    " return [x,n]\n"
   ]
  }
 ],
 "metadata": {
  "language_info": {
   "name": "python"
  }
 },
 "nbformat": 4,
 "nbformat_minor": 2
}
